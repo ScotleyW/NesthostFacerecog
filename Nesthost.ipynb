{
  "cells": [
    {
      "cell_type": "markdown",
      "metadata": {
        "id": "view-in-github",
        "colab_type": "text"
      },
      "source": [
        "<a href=\"https://colab.research.google.com/github/ScotleyW/NesthostFacerecog/blob/main/Nesthost.ipynb\" target=\"_parent\"><img src=\"https://colab.research.google.com/assets/colab-badge.svg\" alt=\"Open In Colab\"/></a>"
      ]
    },
    {
      "cell_type": "code",
      "execution_count": null,
      "metadata": {
        "id": "LcoS-OZfUveF"
      },
      "outputs": [],
      "source": [
        "import torch\n",
        "import numpy as np\n",
        "import pandas as pd\n",
        "import math\n",
        "from sklearn import datasets\n",
        "import matplotlib.pyplot as plt\n",
        "from dateutil.parser import parse\n",
        "import matplotlib as mpl\n",
        "from google.colab import drive\n",
        "from sklearn.model_selection import train_test_split\n",
        "import torch.nn as nn\n",
        "drive.mount('/content/drive/')"
      ]
    },
    {
      "cell_type": "code",
      "execution_count": null,
      "metadata": {
        "id": "PakiewE5Wdq9"
      },
      "outputs": [],
      "source": [
        "dataset = pd.read_csv('/content/drive/MyDrive/history.csv')\n",
        "dataset"
      ]
    },
    {
      "cell_type": "code",
      "execution_count": null,
      "metadata": {
        "id": "I8g4Mb0bWq4y"
      },
      "outputs": [],
      "source": [
        "# input\n",
        "y1 = dataset.iloc[:,  1].values #leaving home\n",
        "y2= dataset.iloc[:,  2].values #coming home\n",
        "y3= dataset.iloc[:,  3].values #rain or no rain\n",
        "\n",
        "# output\n",
        "X = dataset.iloc[:, 0].values #days"
      ]
    },
    {
      "cell_type": "code",
      "execution_count": null,
      "metadata": {
        "id": "P5Hk0PMQC8Oj"
      },
      "outputs": [],
      "source": [
        "#converting time and day to value\n",
        "y1list=[]\n",
        "\n",
        "for a in y1:\n",
        "    (h, m) = a.split(':')\n",
        "    y1list.append(int(h) * 60 + int(m))\n",
        "y1arr = np.array(y1list)\n",
        "y1arr=torch.tensor(y1arr)\n",
        "print(y1arr)\n",
        "\n",
        "y2list=[]\n",
        "for b in y2:\n",
        "    (h, m) = b.split(':')\n",
        "    y2list.append(int(h) * 60 + int(m))\n",
        "y2arr = np.array(y2list)\n",
        "y2arr= torch.from_numpy(y2arr)\n",
        "print(y2arr)\n",
        "\n",
        "xdays=[]\n",
        "for c in X:\n",
        "  days = { 'Monday': 0,\n",
        "            'Tuesday': 1,\n",
        "            'Wednesday': 2,\n",
        "            'Thursday': 3,\n",
        "            'Friday': 4,\n",
        "            'Saturday': 5,\n",
        "            'Sunday': 6\n",
        "          }\n",
        "  xdays.append(days.get(c))\n",
        "xarr= torch.from_numpy(np.array(xdays))\n",
        "print(xarr)\n",
        "\n"
      ]
    },
    {
      "cell_type": "code",
      "execution_count": null,
      "metadata": {
        "id": "3MZ2qUYqOtpB"
      },
      "outputs": [],
      "source": [
        "plt.scatter(xarr, y1arr, color= 'r', s= 10)\n",
        "plt.xlabel('xarr')\n",
        "plt.ylabel('y1arr')\n",
        "plt.grid('True', color='y')\n",
        "plt.show()\n",
        "\n",
        "plt.scatter(xarr, y2arr, color='r', s= 10)\n",
        "plt.xlabel('xarr')\n",
        "plt.ylabel('y2arr')\n",
        "plt.grid('True', color='y')\n",
        "plt.show()"
      ]
    },
    {
      "cell_type": "code",
      "execution_count": 6,
      "metadata": {
        "id": "M94z09xxAudi"
      },
      "outputs": [],
      "source": [
        "training_set = zip(xarr, y1arr)\n",
        "training_set2 = zip(xarr, y2arr)\n",
        "training_loader = torch.utils.data.DataLoader(list(training_set), batch_size=21, shuffle=True)\n",
        "validation_loader = torch.utils.data.DataLoader(list(training_set), batch_size=21, shuffle=False)\n",
        "\n",
        "training_loader2 = torch.utils.data.DataLoader(list(training_set2), batch_size=21, shuffle=True)\n",
        "validation_loader2 = torch.utils.data.DataLoader(list(training_set2), batch_size=21, shuffle=False)"
      ]
    },
    {
      "cell_type": "code",
      "execution_count": 7,
      "metadata": {
        "id": "eyFqXwtrgRsr",
        "colab": {
          "base_uri": "https://localhost:8080/"
        },
        "outputId": "14a2edd4-3a93-46d7-ba67-6ddf1da2a5c1"
      },
      "outputs": [
        {
          "output_type": "stream",
          "name": "stdout",
          "text": [
            "NeuralNet(\n",
            "  (l1): Linear(in_features=1, out_features=21, bias=True)\n",
            "  (relu): ReLU()\n",
            "  (l2): Linear(in_features=21, out_features=21, bias=True)\n",
            "  (relu2): ReLU()\n",
            "  (l3): Linear(in_features=21, out_features=1, bias=True)\n",
            ")\n"
          ]
        }
      ],
      "source": [
        "input_size = 1\n",
        "hidden_size = 21\n",
        "num_classes = 1\n",
        "num_epochs = 10\n",
        "batch_size = 52\n",
        "learning_rate = 0.01\n",
        "\n",
        "class NeuralNet(nn.Module):\n",
        "  def __init__(self, input_size, hidden_size, num_classes) -> None:\n",
        "     super(NeuralNet, self).__init__()\n",
        "     self.l1 =  nn.Linear(input_size, hidden_size, device=\"cpu\")\n",
        "     self.relu = nn.ReLU()\n",
        "     self.l2 = nn.Linear(hidden_size, hidden_size, device=\"cpu\")\n",
        "     self.relu2 = nn.ReLU()\n",
        "     self.l3 = nn.Linear(hidden_size, num_classes, device=\"cpu\")\n",
        "\n",
        "  def forward(self, xarr):\n",
        "    out = self.l1(xarr)\n",
        "    out = self.relu(out)\n",
        "    out = self.l2(out)\n",
        "    out = self.relu2(out)\n",
        "    out = self.l3(out)\n",
        "\n",
        "    return out\n",
        "\n",
        "modely1 = NeuralNet(input_size, hidden_size, num_classes).to(device=\"cpu\")\n",
        "print(modely1)"
      ]
    },
    {
      "cell_type": "code",
      "execution_count": 8,
      "metadata": {
        "id": "wlZaxlysf87b",
        "colab": {
          "base_uri": "https://localhost:8080/"
        },
        "outputId": "320eb702-1a63-41f9-dd67-fa863c6971f5"
      },
      "outputs": [
        {
          "output_type": "stream",
          "name": "stdout",
          "text": [
            "NeuralNet(\n",
            "  (l1a): Linear(in_features=2, out_features=21, bias=True)\n",
            "  (relu): ReLU()\n",
            "  (l2a): Linear(in_features=21, out_features=21, bias=True)\n",
            "  (relu2): ReLU()\n",
            "  (l3a): Linear(in_features=21, out_features=2, bias=True)\n",
            ")\n"
          ]
        }
      ],
      "source": [
        "input_size2 = 2\n",
        "hidden_size2 = 21\n",
        "num_classes2 = 2\n",
        "num_epochs2 = 25\n",
        "batch_size2 = 52\n",
        "learning_rate2 = 0.01\n",
        "\n",
        "class NeuralNet(nn.Module):\n",
        "  def __init__(self, input_size, hidden_size, num_classes2) -> None:\n",
        "     super(NeuralNet, self).__init__()\n",
        "     self.l1a =  nn.Linear(input_size2, hidden_size2, device=\"cpu\")\n",
        "     self.relu = nn.ReLU()\n",
        "     self.l2a = nn.Linear(hidden_size2, hidden_size2, device=\"cpu\")\n",
        "     self.relu2 = nn.ReLU()\n",
        "     self.l3a = nn.Linear(hidden_size2, num_classes2, device=\"cpu\")\n",
        "\n",
        "  def forward(self, xarr):\n",
        "    out = self.l1a(xarr)\n",
        "    out = self.relu(out)\n",
        "    out = self.l2a(out)\n",
        "    out = self.relu2(out)\n",
        "    out = self.l3a(out)\n",
        "\n",
        "    return out\n",
        "\n",
        "modely2 = NeuralNet(input_size, hidden_size, num_classes2).to(device=\"cpu\")\n",
        "\n",
        "print(modely2)"
      ]
    },
    {
      "cell_type": "code",
      "execution_count": 9,
      "metadata": {
        "id": "kcz3Qt2f4vKE"
      },
      "outputs": [],
      "source": [
        "criterion = nn.MSELoss()\n",
        "optimizer = torch.optim.Adam(modely1.parameters(), lr=learning_rate)\n",
        "optimizer2 = torch.optim.Adam(modely2.parameters(), lr=learning_rate)"
      ]
    },
    {
      "cell_type": "code",
      "execution_count": 10,
      "metadata": {
        "colab": {
          "base_uri": "https://localhost:8080/",
          "height": 764
        },
        "id": "Qmw420_JmTFF",
        "outputId": "9861c7bc-a8e3-49f7-a53d-94a948ca90cc"
      },
      "outputs": [
        {
          "output_type": "stream",
          "name": "stdout",
          "text": [
            "tensor([5, 5, 0, 4, 0, 3, 1, 4, 1, 1, 1, 4, 4, 0, 5, 5, 1, 3, 1, 6, 2])\n",
            "tensor([[507],\n",
            "        [501],\n",
            "        [496],\n",
            "        [511],\n",
            "        [511],\n",
            "        [510],\n",
            "        [503],\n",
            "        [522],\n",
            "        [504],\n",
            "        [497],\n",
            "        [501],\n",
            "        [501],\n",
            "        [505],\n",
            "        [508],\n",
            "        [492],\n",
            "        [501],\n",
            "        [512],\n",
            "        [504],\n",
            "        [495],\n",
            "        [505],\n",
            "        [503]])\n"
          ]
        },
        {
          "output_type": "error",
          "ename": "RuntimeError",
          "evalue": "ignored",
          "traceback": [
            "\u001b[0;31m---------------------------------------------------------------------------\u001b[0m",
            "\u001b[0;31mRuntimeError\u001b[0m                              Traceback (most recent call last)",
            "\u001b[0;32m<ipython-input-10-44c08faf65b5>\u001b[0m in \u001b[0;36m<cell line: 3>\u001b[0;34m()\u001b[0m\n\u001b[1;32m     12\u001b[0m         \u001b[0mprint\u001b[0m\u001b[0;34m(\u001b[0m\u001b[0mxarr\u001b[0m\u001b[0;34m)\u001b[0m\u001b[0;34m\u001b[0m\u001b[0;34m\u001b[0m\u001b[0m\n\u001b[1;32m     13\u001b[0m         \u001b[0mprint\u001b[0m\u001b[0;34m(\u001b[0m\u001b[0my1arr\u001b[0m\u001b[0;34m)\u001b[0m\u001b[0;34m\u001b[0m\u001b[0;34m\u001b[0m\u001b[0m\n\u001b[0;32m---> 14\u001b[0;31m         \u001b[0moutput1\u001b[0m \u001b[0;34m=\u001b[0m \u001b[0mmodely1\u001b[0m\u001b[0;34m(\u001b[0m\u001b[0my1arr\u001b[0m\u001b[0;34m)\u001b[0m\u001b[0;34m\u001b[0m\u001b[0;34m\u001b[0m\u001b[0m\n\u001b[0m\u001b[1;32m     15\u001b[0m         \u001b[0;31m# calculate the loss\u001b[0m\u001b[0;34m\u001b[0m\u001b[0;34m\u001b[0m\u001b[0m\n\u001b[1;32m     16\u001b[0m         \u001b[0mloss\u001b[0m \u001b[0;34m=\u001b[0m \u001b[0mcriterion\u001b[0m\u001b[0;34m(\u001b[0m\u001b[0moutput1\u001b[0m\u001b[0;34m,\u001b[0m \u001b[0mxarr\u001b[0m\u001b[0;34m)\u001b[0m\u001b[0;34m\u001b[0m\u001b[0;34m\u001b[0m\u001b[0m\n",
            "\u001b[0;32m/usr/local/lib/python3.10/dist-packages/torch/nn/modules/module.py\u001b[0m in \u001b[0;36m_call_impl\u001b[0;34m(self, *args, **kwargs)\u001b[0m\n\u001b[1;32m   1499\u001b[0m                 \u001b[0;32mor\u001b[0m \u001b[0m_global_backward_pre_hooks\u001b[0m \u001b[0;32mor\u001b[0m \u001b[0m_global_backward_hooks\u001b[0m\u001b[0;34m\u001b[0m\u001b[0;34m\u001b[0m\u001b[0m\n\u001b[1;32m   1500\u001b[0m                 or _global_forward_hooks or _global_forward_pre_hooks):\n\u001b[0;32m-> 1501\u001b[0;31m             \u001b[0;32mreturn\u001b[0m \u001b[0mforward_call\u001b[0m\u001b[0;34m(\u001b[0m\u001b[0;34m*\u001b[0m\u001b[0margs\u001b[0m\u001b[0;34m,\u001b[0m \u001b[0;34m**\u001b[0m\u001b[0mkwargs\u001b[0m\u001b[0;34m)\u001b[0m\u001b[0;34m\u001b[0m\u001b[0;34m\u001b[0m\u001b[0m\n\u001b[0m\u001b[1;32m   1502\u001b[0m         \u001b[0;31m# Do not call functions when jit is used\u001b[0m\u001b[0;34m\u001b[0m\u001b[0;34m\u001b[0m\u001b[0m\n\u001b[1;32m   1503\u001b[0m         \u001b[0mfull_backward_hooks\u001b[0m\u001b[0;34m,\u001b[0m \u001b[0mnon_full_backward_hooks\u001b[0m \u001b[0;34m=\u001b[0m \u001b[0;34m[\u001b[0m\u001b[0;34m]\u001b[0m\u001b[0;34m,\u001b[0m \u001b[0;34m[\u001b[0m\u001b[0;34m]\u001b[0m\u001b[0;34m\u001b[0m\u001b[0;34m\u001b[0m\u001b[0m\n",
            "\u001b[0;32m<ipython-input-7-7983c391abfe>\u001b[0m in \u001b[0;36mforward\u001b[0;34m(self, xarr)\u001b[0m\n\u001b[1;32m     16\u001b[0m \u001b[0;34m\u001b[0m\u001b[0m\n\u001b[1;32m     17\u001b[0m   \u001b[0;32mdef\u001b[0m \u001b[0mforward\u001b[0m\u001b[0;34m(\u001b[0m\u001b[0mself\u001b[0m\u001b[0;34m,\u001b[0m \u001b[0mxarr\u001b[0m\u001b[0;34m)\u001b[0m\u001b[0;34m:\u001b[0m\u001b[0;34m\u001b[0m\u001b[0;34m\u001b[0m\u001b[0m\n\u001b[0;32m---> 18\u001b[0;31m     \u001b[0mout\u001b[0m \u001b[0;34m=\u001b[0m \u001b[0mself\u001b[0m\u001b[0;34m.\u001b[0m\u001b[0ml1\u001b[0m\u001b[0;34m(\u001b[0m\u001b[0mxarr\u001b[0m\u001b[0;34m)\u001b[0m\u001b[0;34m\u001b[0m\u001b[0;34m\u001b[0m\u001b[0m\n\u001b[0m\u001b[1;32m     19\u001b[0m     \u001b[0mout\u001b[0m \u001b[0;34m=\u001b[0m \u001b[0mself\u001b[0m\u001b[0;34m.\u001b[0m\u001b[0mrelu\u001b[0m\u001b[0;34m(\u001b[0m\u001b[0mout\u001b[0m\u001b[0;34m)\u001b[0m\u001b[0;34m\u001b[0m\u001b[0;34m\u001b[0m\u001b[0m\n\u001b[1;32m     20\u001b[0m     \u001b[0mout\u001b[0m \u001b[0;34m=\u001b[0m \u001b[0mself\u001b[0m\u001b[0;34m.\u001b[0m\u001b[0ml2\u001b[0m\u001b[0;34m(\u001b[0m\u001b[0mout\u001b[0m\u001b[0;34m)\u001b[0m\u001b[0;34m\u001b[0m\u001b[0;34m\u001b[0m\u001b[0m\n",
            "\u001b[0;32m/usr/local/lib/python3.10/dist-packages/torch/nn/modules/module.py\u001b[0m in \u001b[0;36m_call_impl\u001b[0;34m(self, *args, **kwargs)\u001b[0m\n\u001b[1;32m   1499\u001b[0m                 \u001b[0;32mor\u001b[0m \u001b[0m_global_backward_pre_hooks\u001b[0m \u001b[0;32mor\u001b[0m \u001b[0m_global_backward_hooks\u001b[0m\u001b[0;34m\u001b[0m\u001b[0;34m\u001b[0m\u001b[0m\n\u001b[1;32m   1500\u001b[0m                 or _global_forward_hooks or _global_forward_pre_hooks):\n\u001b[0;32m-> 1501\u001b[0;31m             \u001b[0;32mreturn\u001b[0m \u001b[0mforward_call\u001b[0m\u001b[0;34m(\u001b[0m\u001b[0;34m*\u001b[0m\u001b[0margs\u001b[0m\u001b[0;34m,\u001b[0m \u001b[0;34m**\u001b[0m\u001b[0mkwargs\u001b[0m\u001b[0;34m)\u001b[0m\u001b[0;34m\u001b[0m\u001b[0;34m\u001b[0m\u001b[0m\n\u001b[0m\u001b[1;32m   1502\u001b[0m         \u001b[0;31m# Do not call functions when jit is used\u001b[0m\u001b[0;34m\u001b[0m\u001b[0;34m\u001b[0m\u001b[0m\n\u001b[1;32m   1503\u001b[0m         \u001b[0mfull_backward_hooks\u001b[0m\u001b[0;34m,\u001b[0m \u001b[0mnon_full_backward_hooks\u001b[0m \u001b[0;34m=\u001b[0m \u001b[0;34m[\u001b[0m\u001b[0;34m]\u001b[0m\u001b[0;34m,\u001b[0m \u001b[0;34m[\u001b[0m\u001b[0;34m]\u001b[0m\u001b[0;34m\u001b[0m\u001b[0;34m\u001b[0m\u001b[0m\n",
            "\u001b[0;32m/usr/local/lib/python3.10/dist-packages/torch/nn/modules/linear.py\u001b[0m in \u001b[0;36mforward\u001b[0;34m(self, input)\u001b[0m\n\u001b[1;32m    112\u001b[0m \u001b[0;34m\u001b[0m\u001b[0m\n\u001b[1;32m    113\u001b[0m     \u001b[0;32mdef\u001b[0m \u001b[0mforward\u001b[0m\u001b[0;34m(\u001b[0m\u001b[0mself\u001b[0m\u001b[0;34m,\u001b[0m \u001b[0minput\u001b[0m\u001b[0;34m:\u001b[0m \u001b[0mTensor\u001b[0m\u001b[0;34m)\u001b[0m \u001b[0;34m->\u001b[0m \u001b[0mTensor\u001b[0m\u001b[0;34m:\u001b[0m\u001b[0;34m\u001b[0m\u001b[0;34m\u001b[0m\u001b[0m\n\u001b[0;32m--> 114\u001b[0;31m         \u001b[0;32mreturn\u001b[0m \u001b[0mF\u001b[0m\u001b[0;34m.\u001b[0m\u001b[0mlinear\u001b[0m\u001b[0;34m(\u001b[0m\u001b[0minput\u001b[0m\u001b[0;34m,\u001b[0m \u001b[0mself\u001b[0m\u001b[0;34m.\u001b[0m\u001b[0mweight\u001b[0m\u001b[0;34m,\u001b[0m \u001b[0mself\u001b[0m\u001b[0;34m.\u001b[0m\u001b[0mbias\u001b[0m\u001b[0;34m)\u001b[0m\u001b[0;34m\u001b[0m\u001b[0;34m\u001b[0m\u001b[0m\n\u001b[0m\u001b[1;32m    115\u001b[0m \u001b[0;34m\u001b[0m\u001b[0m\n\u001b[1;32m    116\u001b[0m     \u001b[0;32mdef\u001b[0m \u001b[0mextra_repr\u001b[0m\u001b[0;34m(\u001b[0m\u001b[0mself\u001b[0m\u001b[0;34m)\u001b[0m \u001b[0;34m->\u001b[0m \u001b[0mstr\u001b[0m\u001b[0;34m:\u001b[0m\u001b[0;34m\u001b[0m\u001b[0;34m\u001b[0m\u001b[0m\n",
            "\u001b[0;31mRuntimeError\u001b[0m: mat1 and mat2 must have the same dtype"
          ]
        }
      ],
      "source": [
        "valid_loss_min = np.Inf\n",
        "\n",
        "for epoch in range(num_epochs):\n",
        "    train_loss = 0.0\n",
        "    valid_loss = 0.0\n",
        "\n",
        "\n",
        "    modely1.train() # prep model for training\n",
        "    for xarr, y1arr in training_loader:\n",
        "        y1arr = y1arr.reshape(21, 1)\n",
        "        optimizer.zero_grad()\n",
        "        print(xarr)\n",
        "        print(y1arr)\n",
        "        output1 = modely1(y1arr)\n",
        "        # calculate the loss\n",
        "        loss = criterion(output1, xarr)\n",
        "        optimizer.step()\n",
        "        # update running training loss\n",
        "        train_loss += loss.item()\n",
        "\n",
        "    ######################\n",
        "    # validate the model #\n",
        "    ######################\n",
        "    modely1.eval() # prep model for evaluation\n",
        "    for xarr, y1arr in validation_loader:\n",
        "        output1 = modely1(y1arr)\n",
        "        loss = criterion(output1, xarr)\n",
        "        # update running validation loss\n",
        "        valid_loss += loss.item()\n",
        "\n",
        "    train_loss = train_loss/len(training_loader)\n",
        "    valid_loss = valid_loss/len(validation_loader)\n"
      ]
    },
    {
      "cell_type": "code",
      "execution_count": null,
      "metadata": {
        "id": "VQ0wjSEnTmjN",
        "colab": {
          "base_uri": "https://localhost:8080/",
          "height": 764
        },
        "outputId": "99ae1476-2380-426e-b2c4-a25a7ef8568e"
      },
      "outputs": [
        {
          "output_type": "stream",
          "name": "stdout",
          "text": [
            "tensor([5, 1, 4, 6, 6, 5, 5, 0, 1, 0, 5, 1, 6, 1, 4, 4, 0, 6, 3, 0, 3])\n",
            "tensor([[ 805],\n",
            "        [1082],\n",
            "        [1095],\n",
            "        [1150],\n",
            "        [1002],\n",
            "        [1008],\n",
            "        [1211],\n",
            "        [1121],\n",
            "        [ 992],\n",
            "        [1090],\n",
            "        [1161],\n",
            "        [1093],\n",
            "        [1047],\n",
            "        [1050],\n",
            "        [1134],\n",
            "        [1151],\n",
            "        [ 992],\n",
            "        [1041],\n",
            "        [1041],\n",
            "        [1101],\n",
            "        [1050]])\n"
          ]
        },
        {
          "output_type": "error",
          "ename": "RuntimeError",
          "evalue": "ignored",
          "traceback": [
            "\u001b[0;31m---------------------------------------------------------------------------\u001b[0m",
            "\u001b[0;31mRuntimeError\u001b[0m                              Traceback (most recent call last)",
            "\u001b[0;32m<ipython-input-10-2263fef0f616>\u001b[0m in \u001b[0;36m<cell line: 1>\u001b[0;34m()\u001b[0m\n\u001b[1;32m     10\u001b[0m         \u001b[0mprint\u001b[0m\u001b[0;34m(\u001b[0m\u001b[0mxarr\u001b[0m\u001b[0;34m)\u001b[0m\u001b[0;34m\u001b[0m\u001b[0;34m\u001b[0m\u001b[0m\n\u001b[1;32m     11\u001b[0m         \u001b[0mprint\u001b[0m\u001b[0;34m(\u001b[0m\u001b[0my2arr\u001b[0m\u001b[0;34m)\u001b[0m\u001b[0;34m\u001b[0m\u001b[0;34m\u001b[0m\u001b[0m\n\u001b[0;32m---> 12\u001b[0;31m         \u001b[0moutput1\u001b[0m \u001b[0;34m=\u001b[0m \u001b[0mmodely2\u001b[0m\u001b[0;34m(\u001b[0m\u001b[0my2arr\u001b[0m\u001b[0;34m)\u001b[0m\u001b[0;34m\u001b[0m\u001b[0;34m\u001b[0m\u001b[0m\n\u001b[0m\u001b[1;32m     13\u001b[0m         \u001b[0;31m# calculate the loss\u001b[0m\u001b[0;34m\u001b[0m\u001b[0;34m\u001b[0m\u001b[0m\n\u001b[1;32m     14\u001b[0m         \u001b[0mloss\u001b[0m \u001b[0;34m=\u001b[0m \u001b[0mcriterion\u001b[0m\u001b[0;34m(\u001b[0m\u001b[0moutput2\u001b[0m\u001b[0;34m,\u001b[0m \u001b[0mxarr\u001b[0m\u001b[0;34m)\u001b[0m\u001b[0;34m\u001b[0m\u001b[0;34m\u001b[0m\u001b[0m\n",
            "\u001b[0;32m/usr/local/lib/python3.10/dist-packages/torch/nn/modules/module.py\u001b[0m in \u001b[0;36m_call_impl\u001b[0;34m(self, *args, **kwargs)\u001b[0m\n\u001b[1;32m   1499\u001b[0m                 \u001b[0;32mor\u001b[0m \u001b[0m_global_backward_pre_hooks\u001b[0m \u001b[0;32mor\u001b[0m \u001b[0m_global_backward_hooks\u001b[0m\u001b[0;34m\u001b[0m\u001b[0;34m\u001b[0m\u001b[0m\n\u001b[1;32m   1500\u001b[0m                 or _global_forward_hooks or _global_forward_pre_hooks):\n\u001b[0;32m-> 1501\u001b[0;31m             \u001b[0;32mreturn\u001b[0m \u001b[0mforward_call\u001b[0m\u001b[0;34m(\u001b[0m\u001b[0;34m*\u001b[0m\u001b[0margs\u001b[0m\u001b[0;34m,\u001b[0m \u001b[0;34m**\u001b[0m\u001b[0mkwargs\u001b[0m\u001b[0;34m)\u001b[0m\u001b[0;34m\u001b[0m\u001b[0;34m\u001b[0m\u001b[0m\n\u001b[0m\u001b[1;32m   1502\u001b[0m         \u001b[0;31m# Do not call functions when jit is used\u001b[0m\u001b[0;34m\u001b[0m\u001b[0;34m\u001b[0m\u001b[0m\n\u001b[1;32m   1503\u001b[0m         \u001b[0mfull_backward_hooks\u001b[0m\u001b[0;34m,\u001b[0m \u001b[0mnon_full_backward_hooks\u001b[0m \u001b[0;34m=\u001b[0m \u001b[0;34m[\u001b[0m\u001b[0;34m]\u001b[0m\u001b[0;34m,\u001b[0m \u001b[0;34m[\u001b[0m\u001b[0;34m]\u001b[0m\u001b[0;34m\u001b[0m\u001b[0;34m\u001b[0m\u001b[0m\n",
            "\u001b[0;32m<ipython-input-7-088ff471cfc2>\u001b[0m in \u001b[0;36mforward\u001b[0;34m(self, xarr)\u001b[0m\n\u001b[1;32m     16\u001b[0m \u001b[0;34m\u001b[0m\u001b[0m\n\u001b[1;32m     17\u001b[0m   \u001b[0;32mdef\u001b[0m \u001b[0mforward\u001b[0m\u001b[0;34m(\u001b[0m\u001b[0mself\u001b[0m\u001b[0;34m,\u001b[0m \u001b[0mxarr\u001b[0m\u001b[0;34m)\u001b[0m\u001b[0;34m:\u001b[0m\u001b[0;34m\u001b[0m\u001b[0;34m\u001b[0m\u001b[0m\n\u001b[0;32m---> 18\u001b[0;31m     \u001b[0mout\u001b[0m \u001b[0;34m=\u001b[0m \u001b[0mself\u001b[0m\u001b[0;34m.\u001b[0m\u001b[0ml1a\u001b[0m\u001b[0;34m(\u001b[0m\u001b[0mxarr\u001b[0m\u001b[0;34m)\u001b[0m\u001b[0;34m\u001b[0m\u001b[0;34m\u001b[0m\u001b[0m\n\u001b[0m\u001b[1;32m     19\u001b[0m     \u001b[0mout\u001b[0m \u001b[0;34m=\u001b[0m \u001b[0mself\u001b[0m\u001b[0;34m.\u001b[0m\u001b[0mrelu\u001b[0m\u001b[0;34m(\u001b[0m\u001b[0mout\u001b[0m\u001b[0;34m)\u001b[0m\u001b[0;34m\u001b[0m\u001b[0;34m\u001b[0m\u001b[0m\n\u001b[1;32m     20\u001b[0m     \u001b[0mout\u001b[0m \u001b[0;34m=\u001b[0m \u001b[0mself\u001b[0m\u001b[0;34m.\u001b[0m\u001b[0ml2a\u001b[0m\u001b[0;34m(\u001b[0m\u001b[0mout\u001b[0m\u001b[0;34m)\u001b[0m\u001b[0;34m\u001b[0m\u001b[0;34m\u001b[0m\u001b[0m\n",
            "\u001b[0;32m/usr/local/lib/python3.10/dist-packages/torch/nn/modules/module.py\u001b[0m in \u001b[0;36m_call_impl\u001b[0;34m(self, *args, **kwargs)\u001b[0m\n\u001b[1;32m   1499\u001b[0m                 \u001b[0;32mor\u001b[0m \u001b[0m_global_backward_pre_hooks\u001b[0m \u001b[0;32mor\u001b[0m \u001b[0m_global_backward_hooks\u001b[0m\u001b[0;34m\u001b[0m\u001b[0;34m\u001b[0m\u001b[0m\n\u001b[1;32m   1500\u001b[0m                 or _global_forward_hooks or _global_forward_pre_hooks):\n\u001b[0;32m-> 1501\u001b[0;31m             \u001b[0;32mreturn\u001b[0m \u001b[0mforward_call\u001b[0m\u001b[0;34m(\u001b[0m\u001b[0;34m*\u001b[0m\u001b[0margs\u001b[0m\u001b[0;34m,\u001b[0m \u001b[0;34m**\u001b[0m\u001b[0mkwargs\u001b[0m\u001b[0;34m)\u001b[0m\u001b[0;34m\u001b[0m\u001b[0;34m\u001b[0m\u001b[0m\n\u001b[0m\u001b[1;32m   1502\u001b[0m         \u001b[0;31m# Do not call functions when jit is used\u001b[0m\u001b[0;34m\u001b[0m\u001b[0;34m\u001b[0m\u001b[0m\n\u001b[1;32m   1503\u001b[0m         \u001b[0mfull_backward_hooks\u001b[0m\u001b[0;34m,\u001b[0m \u001b[0mnon_full_backward_hooks\u001b[0m \u001b[0;34m=\u001b[0m \u001b[0;34m[\u001b[0m\u001b[0;34m]\u001b[0m\u001b[0;34m,\u001b[0m \u001b[0;34m[\u001b[0m\u001b[0;34m]\u001b[0m\u001b[0;34m\u001b[0m\u001b[0;34m\u001b[0m\u001b[0m\n",
            "\u001b[0;32m/usr/local/lib/python3.10/dist-packages/torch/nn/modules/linear.py\u001b[0m in \u001b[0;36mforward\u001b[0;34m(self, input)\u001b[0m\n\u001b[1;32m    112\u001b[0m \u001b[0;34m\u001b[0m\u001b[0m\n\u001b[1;32m    113\u001b[0m     \u001b[0;32mdef\u001b[0m \u001b[0mforward\u001b[0m\u001b[0;34m(\u001b[0m\u001b[0mself\u001b[0m\u001b[0;34m,\u001b[0m \u001b[0minput\u001b[0m\u001b[0;34m:\u001b[0m \u001b[0mTensor\u001b[0m\u001b[0;34m)\u001b[0m \u001b[0;34m->\u001b[0m \u001b[0mTensor\u001b[0m\u001b[0;34m:\u001b[0m\u001b[0;34m\u001b[0m\u001b[0;34m\u001b[0m\u001b[0m\n\u001b[0;32m--> 114\u001b[0;31m         \u001b[0;32mreturn\u001b[0m \u001b[0mF\u001b[0m\u001b[0;34m.\u001b[0m\u001b[0mlinear\u001b[0m\u001b[0;34m(\u001b[0m\u001b[0minput\u001b[0m\u001b[0;34m,\u001b[0m \u001b[0mself\u001b[0m\u001b[0;34m.\u001b[0m\u001b[0mweight\u001b[0m\u001b[0;34m,\u001b[0m \u001b[0mself\u001b[0m\u001b[0;34m.\u001b[0m\u001b[0mbias\u001b[0m\u001b[0;34m)\u001b[0m\u001b[0;34m\u001b[0m\u001b[0;34m\u001b[0m\u001b[0m\n\u001b[0m\u001b[1;32m    115\u001b[0m \u001b[0;34m\u001b[0m\u001b[0m\n\u001b[1;32m    116\u001b[0m     \u001b[0;32mdef\u001b[0m \u001b[0mextra_repr\u001b[0m\u001b[0;34m(\u001b[0m\u001b[0mself\u001b[0m\u001b[0;34m)\u001b[0m \u001b[0;34m->\u001b[0m \u001b[0mstr\u001b[0m\u001b[0;34m:\u001b[0m\u001b[0;34m\u001b[0m\u001b[0;34m\u001b[0m\u001b[0m\n",
            "\u001b[0;31mRuntimeError\u001b[0m: mat1 and mat2 must have the same dtype"
          ]
        }
      ],
      "source": [
        "for epoch in range(num_epochs):\n",
        "    train_loss = 0.0\n",
        "    valid_loss = 0.0\n",
        "\n",
        "\n",
        "    modely1.train() # prep model for training\n",
        "    for xarr, y2arr in training_loader2:\n",
        "        y2arr = y2arr.reshape(21, 1)\n",
        "        optimizer.zero_grad()\n",
        "        print(xarr)\n",
        "        print(y2arr)\n",
        "        output1 = modely2(y2arr)\n",
        "        # calculate the loss\n",
        "        loss = criterion(output2, xarr)\n",
        "        optimizer.step()\n",
        "        # update running training loss\n",
        "        train_loss += loss.item()\n",
        "\n",
        "    ######################\n",
        "    # validate the model #\n",
        "    ######################\n",
        "    modely2.eval() # prep model for evaluation\n",
        "    for xarr, y2arr in validation_loader2:\n",
        "        output2 = modely2(y2arr)\n",
        "        loss = criterion(output2, xarr)\n",
        "        # update running validation loss\n",
        "        valid_loss += loss.item()\n",
        "\n",
        "    train_loss = train_loss/len(training_loader2)\n",
        "    valid_loss = valid_loss/len(validation_loader2)\n"
      ]
    },
    {
      "cell_type": "code",
      "execution_count": null,
      "metadata": {
        "id": "2XQEcfMFI9kC",
        "colab": {
          "base_uri": "https://localhost:8080/"
        },
        "outputId": "01355a7c-3447-48ad-ae21-c2da49c7b712"
      },
      "outputs": [
        {
          "output_type": "stream",
          "name": "stdout",
          "text": [
            "['8:22', '8:23', '8:56', '8:26', '8:23', '8:25', '8:28']\n",
            "['17:15', '17:35', '18:6', '18:4', '18:22', '18:4', '17:59']\n"
          ]
        }
      ],
      "source": [
        "#value to time conversion\n",
        "y1raw=[]\n",
        "y1hour=[]\n",
        "y1rawminute=[]\n",
        "y1minute=[]\n",
        "y1time=[]\n",
        "\n",
        "for f1 in y1mean:\n",
        "   y1raw.append(f1/60)\n",
        "y1raw = np.array(y1raw)\n",
        "\n",
        "for f2 in y1raw:\n",
        "  y1hour.append(int(f2))\n",
        "y1hour = np.array(y1hour)\n",
        "\n",
        "y1raw = y1raw.reshape(1,7)\n",
        "y1minute= np.round((y1raw - y1hour)*60)\n",
        "y1minute= y1minute[0]\n",
        "\n",
        "y2raw=[]\n",
        "y2hour=[]\n",
        "y2rawminute=[]\n",
        "y2minute=[]\n",
        "y2time=[]\n",
        "\n",
        "for f5 in y2mean:\n",
        "   y2raw.append(f5/60)\n",
        "y2raw = np.array(y2raw)\n",
        "\n",
        "for f6 in y2raw:\n",
        "  y2hour.append(int(f6))\n",
        "y2hour = np.array(y2hour)\n",
        "\n",
        "y2raw = y2raw.reshape(1,7)\n",
        "y2minute= np.round((y2raw - y2hour)*60)\n",
        "y2minute= y2minute[0]\n",
        "\n",
        "for e1, e2 in zip(y1hour, y1minute):\n",
        "  y1time.append(f\"{e1}:{int(e2)}\")\n",
        "\n",
        "print(y1time)\n",
        "\n",
        "for e5, e6 in zip(y2hour, y2minute):\n",
        "  y2time.append(f\"{e5}:{int(e6)}\")\n",
        "print(y2time)"
      ]
    },
    {
      "cell_type": "code",
      "execution_count": null,
      "metadata": {
        "id": "Eicsm0oIVa3i"
      },
      "outputs": [],
      "source": []
    }
  ],
  "metadata": {
    "colab": {
      "provenance": [],
      "include_colab_link": true
    },
    "kernelspec": {
      "display_name": "Python 3",
      "name": "python3"
    },
    "language_info": {
      "name": "python"
    }
  },
  "nbformat": 4,
  "nbformat_minor": 0
}